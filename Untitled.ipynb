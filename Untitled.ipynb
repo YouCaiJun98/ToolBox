{
 "cells": [
  {
   "cell_type": "code",
   "execution_count": 22,
   "id": "dacffb5c",
   "metadata": {},
   "outputs": [
    {
     "data": {
      "text/plain": [
       "['BSD',\n",
       " 'Datasets',\n",
       " 'In',\n",
       " 'Out',\n",
       " '_',\n",
       " '_16',\n",
       " '_17',\n",
       " '_18',\n",
       " '_19',\n",
       " '_20',\n",
       " '_21',\n",
       " '__',\n",
       " '___',\n",
       " '__builtin__',\n",
       " '__builtins__',\n",
       " '__doc__',\n",
       " '__loader__',\n",
       " '__name__',\n",
       " '__package__',\n",
       " '__spec__',\n",
       " '_dh',\n",
       " '_i',\n",
       " '_i1',\n",
       " '_i10',\n",
       " '_i11',\n",
       " '_i12',\n",
       " '_i13',\n",
       " '_i14',\n",
       " '_i15',\n",
       " '_i16',\n",
       " '_i17',\n",
       " '_i18',\n",
       " '_i19',\n",
       " '_i2',\n",
       " '_i20',\n",
       " '_i21',\n",
       " '_i22',\n",
       " '_i3',\n",
       " '_i4',\n",
       " '_i5',\n",
       " '_i6',\n",
       " '_i7',\n",
       " '_i8',\n",
       " '_i9',\n",
       " '_ih',\n",
       " '_ii',\n",
       " '_iii',\n",
       " '_oh',\n",
       " 'crop_patch',\n",
       " 'data_augmentation',\n",
       " 'exit',\n",
       " 'get_ipython',\n",
       " 'quit',\n",
       " 'random']"
      ]
     },
     "execution_count": 22,
     "metadata": {},
     "output_type": "execute_result"
    }
   ],
   "source": [
    "import Datasets\n",
    "'''\n",
    "data_path = \"BSD500/\"\n",
    "    batch_size = 1\n",
    "    patch_size = 256\n",
    "    train_samples = BSD500_gray_Dataset(data_path + 'train/', 100 * batch_size, patch_size, sigma=25)\n",
    "    val_samples = BSD500_gray_Dataset(data_path + 'test/', 50 * batch_size, patch_size, sigma=25)\n",
    "    train_loader = torch.utils.data.DataLoader(train_samples, batch_size=batch_size, shuffle=True, pin_memory=True)\n",
    "    for step, (input, target) in enumerate(train_loader):\n",
    "        input = input[0][0].numpy()\n",
    "        target = target[0][0].numpy()\n",
    "        image_show(input)\n",
    "        image_show(target)\n",
    "        import ipdb; ipdb.set_trace()\n",
    "'''\n",
    "dir()"
   ]
  }
 ],
 "metadata": {
  "kernelspec": {
   "display_name": "Python 3 (ipykernel)",
   "language": "python",
   "name": "python3"
  },
  "language_info": {
   "codemirror_mode": {
    "name": "ipython",
    "version": 3
   },
   "file_extension": ".py",
   "mimetype": "text/x-python",
   "name": "python",
   "nbconvert_exporter": "python",
   "pygments_lexer": "ipython3",
   "version": "3.7.3"
  }
 },
 "nbformat": 4,
 "nbformat_minor": 5
}
